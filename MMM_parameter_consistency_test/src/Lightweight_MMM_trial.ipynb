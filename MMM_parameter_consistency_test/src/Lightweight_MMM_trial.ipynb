{
 "cells": [
  {
   "cell_type": "code",
   "execution_count": 2,
   "metadata": {},
   "outputs": [],
   "source": [
    "# %%\n",
    "import pandas as pd\n",
    "import numpy as np\n",
    "\n",
    "import jax.numpy as jnp\n",
    "from sklearn.metrics import mean_absolute_percentage_error\n",
    "\n",
    "from lightweight_mmm import preprocessing\n",
    "\n",
    "from lightweight_mmm import utils\n",
    "from lightweight_mmm import lightweight_mmm\n",
    "from lightweight_mmm import plot\n",
    "from lightweight_mmm import optimize_media\n",
    "from lightweight_mmm import utils\n"
   ]
  },
  {
   "cell_type": "code",
   "execution_count": 4,
   "metadata": {},
   "outputs": [],
   "source": [
    "# %%\n",
    "sim_data = pd.read_csv(\"../input/simulated_data.csv\")\n",
    "sim_data = sim_data.dropna(axis=0)\n"
   ]
  },
  {
   "cell_type": "code",
   "execution_count": 5,
   "metadata": {},
   "outputs": [],
   "source": [
    "# %% config: set variables\n",
    "spend_columns = ['spend_TV', 'spend_Facebook', 'spend_Search']\n",
    "media_columns = ['impressions_TV', 'impressions_Facebook', \n",
    "                 'clicks_Search']\n",
    "sales = ['total_revenue']\n",
    "\n",
    "spend_data = sim_data[spend_columns]\n",
    "media_data = sim_data[media_columns]\n",
    "sales_data = sim_data[sales]\n"
   ]
  },
  {
   "cell_type": "code",
   "execution_count": 6,
   "metadata": {},
   "outputs": [],
   "source": [
    "# %% convert jax format\n",
    "cost_jax = jnp.array(\n",
    "    spend_data.values\n",
    ")\n",
    "\n",
    "media_data_jax = jnp.array(\n",
    "    media_data.values\n",
    ")\n",
    "\n",
    "sales_jax = jnp.array(\n",
    "    sales_data.values\n",
    ")\n"
   ]
  },
  {
   "cell_type": "code",
   "execution_count": 7,
   "metadata": {},
   "outputs": [],
   "source": [
    "# %% train test split\n",
    "split_point = len(media_data_jax) - 20\n",
    "\n",
    "media_data_train = media_data_jax[:split_point]\n",
    "media_data_test = media_data_jax[split_point:]\n",
    "\n",
    "target_train = sales_jax[:split_point]\n",
    "target_test = sales_jax[split_point:]\n",
    "\n",
    "costs_train = cost_jax[:split_point].sum(axis=0)\n",
    "costs_test = cost_jax[split_point:].sum(axis=0)\n",
    "media_names = media_data.columns\n"
   ]
  },
  {
   "cell_type": "code",
   "execution_count": 8,
   "metadata": {},
   "outputs": [],
   "source": [
    "# %% scaling\n",
    "media_scaler = preprocessing.CustomScaler(divide_operation=jnp.mean)\n",
    "target_scaler = preprocessing.CustomScaler(divide_operation=jnp.mean)\n",
    "costs_scaler = preprocessing.CustomScaler(divide_operation=jnp.mean)\n",
    "\n",
    "media_data_train = media_scaler.fit_transform(media_data_train)\n",
    "media_data_test = media_scaler.transform(media_data_test)\n",
    "\n",
    "target_train = target_scaler.fit_transform(target_train)\n",
    "target_test = target_scaler.transform(target_test)\n",
    "\n",
    "costs_train = costs_scaler.fit_transform(costs_train)\n",
    "cost_test = costs_scaler.transform(costs_test)\n"
   ]
  },
  {
   "cell_type": "code",
   "execution_count": 9,
   "metadata": {},
   "outputs": [
    {
     "name": "stdout",
     "output_type": "stream",
     "text": [
      "CPU times: total: 62.5 ms\n",
      "Wall time: 588 ms\n",
      "CPU times: total: 62.5 ms\n",
      "Wall time: 588 ms\n"
     ]
    }
   ],
   "source": [
    "%%time\n",
    "mmm = utils.load_model(\"../output/lightweight_mmm_20240723_model.pkl\")"
   ]
  },
  {
   "cell_type": "code",
   "execution_count": 10,
   "metadata": {},
   "outputs": [],
   "source": [
    "#%%\n",
    "pred = mmm.predict(\n",
    "    media=media_data_test,\n",
    "    target_scaler=target_scaler\n",
    ")\n"
   ]
  },
  {
   "cell_type": "code",
   "execution_count": 11,
   "metadata": {},
   "outputs": [
    {
     "name": "stdout",
     "output_type": "stream",
     "text": [
      "\n",
      "                                         mean       std    median      5.0%     95.0%     n_eff     r_hat\n",
      "                      coef_media[0]      0.31      0.28      0.23      0.00      0.69   3089.99      1.00\n",
      "                      coef_media[1]      0.56      0.57      0.37      0.00      1.35   2169.94      1.00\n",
      "                      coef_media[2]      0.40      0.38      0.29      0.00      0.92   3085.64      1.00\n",
      "                      coef_trend[0]     -0.03      0.03     -0.02     -0.07      0.01    715.43      1.00\n",
      "                         expo_trend      0.72      0.17      0.68      0.50      0.96    959.21      1.01\n",
      "             gamma_seasonality[0,0]      0.24      0.74      0.23     -0.96      1.43    844.29      1.01\n",
      "             gamma_seasonality[0,1]     -0.33      0.47     -0.31     -1.07      0.46   1183.54      1.01\n",
      "             gamma_seasonality[1,0]      0.04      0.16      0.03     -0.24      0.30    973.14      1.01\n",
      "             gamma_seasonality[1,1]      0.07      0.12      0.07     -0.12      0.26   1005.39      1.00\n",
      "half_max_effective_concentration[0]      1.08      1.10      0.73      0.00      2.54   3338.57      1.00\n",
      "half_max_effective_concentration[1]      1.17      1.17      0.82      0.00      2.74   2703.63      1.00\n",
      "half_max_effective_concentration[2]      1.10      1.14      0.74      0.00      2.64   3915.79      1.00\n",
      "                       intercept[0]      0.77      0.47      0.73      0.00      1.42   1266.83      1.01\n",
      "                      lag_weight[0]      0.68      0.25      0.72      0.31      1.00   2214.53      1.00\n",
      "                      lag_weight[1]      0.69      0.26      0.74      0.30      1.00   1766.93      1.00\n",
      "                      lag_weight[2]      0.68      0.25      0.73      0.31      1.00   2153.45      1.00\n",
      "                           sigma[0]      0.13      0.00      0.13      0.12      0.13   3891.14      1.00\n",
      "                           slope[0]      0.77      0.95      0.40      0.00      2.00   2947.22      1.00\n",
      "                           slope[1]      0.80      1.03      0.38      0.00      2.13   1927.85      1.00\n",
      "                           slope[2]      0.77      1.00      0.37      0.00      2.06   2375.11      1.00\n",
      "                         weekday[0]     -0.00      0.18     -0.01     -0.30      0.29    510.61      1.00\n",
      "                         weekday[1]     -0.01      0.18     -0.01     -0.31      0.29    511.15      1.00\n",
      "                         weekday[2]     -0.01      0.18     -0.01     -0.31      0.29    511.24      1.00\n",
      "                         weekday[3]     -0.01      0.18     -0.01     -0.31      0.29    511.26      1.00\n",
      "                         weekday[4]     -0.01      0.18     -0.01     -0.31      0.29    511.02      1.00\n",
      "                         weekday[5]     -0.01      0.18     -0.01     -0.30      0.29    511.53      1.00\n",
      "                         weekday[6]     -0.01      0.18     -0.01     -0.30      0.29    511.26      1.00\n",
      "\n",
      "Number of divergences: 987\n",
      "\n",
      "\n",
      "                                         mean       std    median      5.0%     95.0%     n_eff     r_hat\n",
      "                      coef_media[0]      0.31      0.28      0.23      0.00      0.69   3089.99      1.00\n",
      "                      coef_media[1]      0.56      0.57      0.37      0.00      1.35   2169.94      1.00\n",
      "                      coef_media[2]      0.40      0.38      0.29      0.00      0.92   3085.64      1.00\n",
      "                      coef_trend[0]     -0.03      0.03     -0.02     -0.07      0.01    715.43      1.00\n",
      "                         expo_trend      0.72      0.17      0.68      0.50      0.96    959.21      1.01\n",
      "             gamma_seasonality[0,0]      0.24      0.74      0.23     -0.96      1.43    844.29      1.01\n",
      "             gamma_seasonality[0,1]     -0.33      0.47     -0.31     -1.07      0.46   1183.54      1.01\n",
      "             gamma_seasonality[1,0]      0.04      0.16      0.03     -0.24      0.30    973.14      1.01\n",
      "             gamma_seasonality[1,1]      0.07      0.12      0.07     -0.12      0.26   1005.39      1.00\n",
      "half_max_effective_concentration[0]      1.08      1.10      0.73      0.00      2.54   3338.57      1.00\n",
      "half_max_effective_concentration[1]      1.17      1.17      0.82      0.00      2.74   2703.63      1.00\n",
      "half_max_effective_concentration[2]      1.10      1.14      0.74      0.00      2.64   3915.79      1.00\n",
      "                       intercept[0]      0.77      0.47      0.73      0.00      1.42   1266.83      1.01\n",
      "                      lag_weight[0]      0.68      0.25      0.72      0.31      1.00   2214.53      1.00\n",
      "                      lag_weight[1]      0.69      0.26      0.74      0.30      1.00   1766.93      1.00\n",
      "                      lag_weight[2]      0.68      0.25      0.73      0.31      1.00   2153.45      1.00\n",
      "                           sigma[0]      0.13      0.00      0.13      0.12      0.13   3891.14      1.00\n",
      "                           slope[0]      0.77      0.95      0.40      0.00      2.00   2947.22      1.00\n",
      "                           slope[1]      0.80      1.03      0.38      0.00      2.13   1927.85      1.00\n",
      "                           slope[2]      0.77      1.00      0.37      0.00      2.06   2375.11      1.00\n",
      "                         weekday[0]     -0.00      0.18     -0.01     -0.30      0.29    510.61      1.00\n",
      "                         weekday[1]     -0.01      0.18     -0.01     -0.31      0.29    511.15      1.00\n",
      "                         weekday[2]     -0.01      0.18     -0.01     -0.31      0.29    511.24      1.00\n",
      "                         weekday[3]     -0.01      0.18     -0.01     -0.31      0.29    511.26      1.00\n",
      "                         weekday[4]     -0.01      0.18     -0.01     -0.31      0.29    511.02      1.00\n",
      "                         weekday[5]     -0.01      0.18     -0.01     -0.30      0.29    511.53      1.00\n",
      "                         weekday[6]     -0.01      0.18     -0.01     -0.30      0.29    511.26      1.00\n",
      "\n",
      "Number of divergences: 987\n"
     ]
    }
   ],
   "source": [
    "# %% \n",
    "mmm.print_summary()\n"
   ]
  },
  {
   "cell_type": "code",
   "execution_count": 12,
   "metadata": {},
   "outputs": [],
   "source": [
    "# %%\n",
    "media_effect_hat, roi_hat = mmm.get_posterior_metrics()\n"
   ]
  },
  {
   "cell_type": "code",
   "execution_count": 13,
   "metadata": {},
   "outputs": [
    {
     "data": {
      "text/plain": [
       "TV          0.678541\n",
       "Facebook    0.686391\n",
       "Search      0.681990\n",
       "dtype: float32"
      ]
     },
     "execution_count": null,
     "metadata": {},
     "output_type": "execute_result"
    }
   ],
   "source": [
    "# %%\n",
    "lambda_table = pd.DataFrame(mmm.trace['lag_weight']._value, columns=mmm.media_names)\n",
    "# When I used lightweight MMM on this dataset, \n",
    "# I assumed mmm.trace['lag_weight'] would recover my lambdas. Instead, \n",
    "# I am getting these (relatively) very large values:\n",
    "lambda_table.apply(np.mean, axis=0)\n"
   ]
  },
  {
   "cell_type": "code",
   "execution_count": 14,
   "metadata": {},
   "outputs": [
    {
     "ename": "TypeError",
     "evalue": "sub got incompatible shapes for broadcasting: (84, 1), (50000, 84).",
     "output_type": "error",
     "traceback": [
      "\u001b[1;31m---------------------------------------------------------------------------\u001b[0m\n",
      "\u001b[1;31mTypeError\u001b[0m                                 Traceback (most recent call last)\n",
      "Cell \u001b[1;32mIn[14], line 2\u001b[0m\n",
      "\u001b[0;32m      1\u001b[0m \u001b[38;5;66;03m# %% I have here TypeError\u001b[39;00m\n",
      "\u001b[1;32m----> 2\u001b[0m \u001b[43mplot\u001b[49m\u001b[38;5;241;43m.\u001b[39;49m\u001b[43mplot_model_fit\u001b[49m\u001b[43m(\u001b[49m\u001b[43mmmm\u001b[49m\u001b[43m,\u001b[49m\u001b[43m \u001b[49m\u001b[43mtarget_scaler\u001b[49m\u001b[38;5;241;43m=\u001b[39;49m\u001b[43mtarget_scaler\u001b[49m\u001b[43m)\u001b[49m\n",
      "\n",
      "File \u001b[1;32m~\\.virtualenvs\\MMM_parameter_consistency_test-QELEqjhF\\lib\\site-packages\\lightweight_mmm\\plot.py:738\u001b[0m, in \u001b[0;36mplot_model_fit\u001b[1;34m(media_mix_model, target_scaler, interval_mid_range, digits)\u001b[0m\n",
      "\u001b[0;32m    735\u001b[0m   posterior_pred \u001b[38;5;241m=\u001b[39m target_scaler\u001b[38;5;241m.\u001b[39minverse_transform(posterior_pred)\n",
      "\u001b[0;32m    736\u001b[0m   target_train \u001b[38;5;241m=\u001b[39m target_scaler\u001b[38;5;241m.\u001b[39minverse_transform(target_train)\n",
      "\u001b[1;32m--> 738\u001b[0m \u001b[38;5;28;01mreturn\u001b[39;00m \u001b[43m_call_fit_plotter\u001b[49m\u001b[43m(\u001b[49m\n",
      "\u001b[0;32m    739\u001b[0m \u001b[43m    \u001b[49m\u001b[43mpredictions\u001b[49m\u001b[38;5;241;43m=\u001b[39;49m\u001b[43mposterior_pred\u001b[49m\u001b[43m,\u001b[49m\n",
      "\u001b[0;32m    740\u001b[0m \u001b[43m    \u001b[49m\u001b[43mtarget\u001b[49m\u001b[38;5;241;43m=\u001b[39;49m\u001b[43mtarget_train\u001b[49m\u001b[43m,\u001b[49m\n",
      "\u001b[0;32m    741\u001b[0m \u001b[43m    \u001b[49m\u001b[43minterval_mid_range\u001b[49m\u001b[38;5;241;43m=\u001b[39;49m\u001b[43minterval_mid_range\u001b[49m\u001b[43m,\u001b[49m\n",
      "\u001b[0;32m    742\u001b[0m \u001b[43m    \u001b[49m\u001b[43mdigits\u001b[49m\u001b[38;5;241;43m=\u001b[39;49m\u001b[43mdigits\u001b[49m\u001b[43m)\u001b[49m\n",
      "\n",
      "File \u001b[1;32m~\\.virtualenvs\\MMM_parameter_consistency_test-QELEqjhF\\lib\\site-packages\\lightweight_mmm\\plot.py:701\u001b[0m, in \u001b[0;36m_call_fit_plotter\u001b[1;34m(predictions, target, interval_mid_range, digits)\u001b[0m\n",
      "\u001b[0;32m    699\u001b[0m \u001b[38;5;28;01melse\u001b[39;00m:  \u001b[38;5;66;03m# Single plot for national model\u001b[39;00m\n",
      "\u001b[0;32m    700\u001b[0m   figure, ax \u001b[38;5;241m=\u001b[39m plt\u001b[38;5;241m.\u001b[39msubplots(\u001b[38;5;241m1\u001b[39m, \u001b[38;5;241m1\u001b[39m)\n",
      "\u001b[1;32m--> 701\u001b[0m   \u001b[43m_create_shaded_line_plot\u001b[49m\u001b[43m(\u001b[49m\u001b[43mpredictions\u001b[49m\u001b[38;5;241;43m=\u001b[39;49m\u001b[43mpredictions\u001b[49m\u001b[43m,\u001b[49m\n",
      "\u001b[0;32m    702\u001b[0m \u001b[43m                           \u001b[49m\u001b[43mtarget\u001b[49m\u001b[38;5;241;43m=\u001b[39;49m\u001b[43mtarget\u001b[49m\u001b[43m,\u001b[49m\n",
      "\u001b[0;32m    703\u001b[0m \u001b[43m                           \u001b[49m\u001b[43maxis\u001b[49m\u001b[38;5;241;43m=\u001b[39;49m\u001b[43max\u001b[49m\u001b[43m,\u001b[49m\n",
      "\u001b[0;32m    704\u001b[0m \u001b[43m                           \u001b[49m\u001b[43minterval_mid_range\u001b[49m\u001b[38;5;241;43m=\u001b[39;49m\u001b[43minterval_mid_range\u001b[49m\u001b[43m,\u001b[49m\n",
      "\u001b[0;32m    705\u001b[0m \u001b[43m                           \u001b[49m\u001b[43mdigits\u001b[49m\u001b[38;5;241;43m=\u001b[39;49m\u001b[43mdigits\u001b[49m\u001b[43m)\u001b[49m\n",
      "\u001b[0;32m    706\u001b[0m \u001b[38;5;28;01mreturn\u001b[39;00m figure\n",
      "\n",
      "File \u001b[1;32m~\\.virtualenvs\\MMM_parameter_consistency_test-QELEqjhF\\lib\\site-packages\\lightweight_mmm\\plot.py:642\u001b[0m, in \u001b[0;36m_create_shaded_line_plot\u001b[1;34m(predictions, target, axis, title_prefix, interval_mid_range, digits)\u001b[0m\n",
      "\u001b[0;32m    639\u001b[0m upper_bound \u001b[38;5;241m=\u001b[39m jnp\u001b[38;5;241m.\u001b[39mquantile(a\u001b[38;5;241m=\u001b[39mpredictions, q\u001b[38;5;241m=\u001b[39mupper_quantile, axis\u001b[38;5;241m=\u001b[39m\u001b[38;5;241m0\u001b[39m)\n",
      "\u001b[0;32m    640\u001b[0m lower_bound \u001b[38;5;241m=\u001b[39m jnp\u001b[38;5;241m.\u001b[39mquantile(a\u001b[38;5;241m=\u001b[39mpredictions, q\u001b[38;5;241m=\u001b[39mlower_quantile, axis\u001b[38;5;241m=\u001b[39m\u001b[38;5;241m0\u001b[39m)\n",
      "\u001b[1;32m--> 642\u001b[0m r2, _ \u001b[38;5;241m=\u001b[39m \u001b[43marviz\u001b[49m\u001b[38;5;241;43m.\u001b[39;49m\u001b[43mr2_score\u001b[49m\u001b[43m(\u001b[49m\u001b[43my_true\u001b[49m\u001b[38;5;241;43m=\u001b[39;49m\u001b[43mtarget\u001b[49m\u001b[43m,\u001b[49m\u001b[43m \u001b[49m\u001b[43my_pred\u001b[49m\u001b[38;5;241;43m=\u001b[39;49m\u001b[43mpredictions\u001b[49m\u001b[43m)\u001b[49m\n",
      "\u001b[0;32m    643\u001b[0m mape \u001b[38;5;241m=\u001b[39m \u001b[38;5;241m100\u001b[39m \u001b[38;5;241m*\u001b[39m metrics\u001b[38;5;241m.\u001b[39mmean_absolute_percentage_error(\n",
      "\u001b[0;32m    644\u001b[0m     y_true\u001b[38;5;241m=\u001b[39mtarget, y_pred\u001b[38;5;241m=\u001b[39mpredictions\u001b[38;5;241m.\u001b[39mmean(axis\u001b[38;5;241m=\u001b[39m\u001b[38;5;241m0\u001b[39m))\n",
      "\u001b[0;32m    645\u001b[0m axis\u001b[38;5;241m.\u001b[39mplot(jnp\u001b[38;5;241m.\u001b[39marange(target\u001b[38;5;241m.\u001b[39mshape[\u001b[38;5;241m0\u001b[39m]), target, c\u001b[38;5;241m=\u001b[39m\u001b[38;5;124m\"\u001b[39m\u001b[38;5;124mgrey\u001b[39m\u001b[38;5;124m\"\u001b[39m, alpha\u001b[38;5;241m=\u001b[39m\u001b[38;5;241m.9\u001b[39m)\n",
      "\n",
      "File \u001b[1;32m~\\.virtualenvs\\MMM_parameter_consistency_test-QELEqjhF\\lib\\site-packages\\arviz\\stats\\stats.py:1161\u001b[0m, in \u001b[0;36mr2_score\u001b[1;34m(y_true, y_pred)\u001b[0m\n",
      "\u001b[0;32m   1128\u001b[0m \u001b[38;5;28;01mdef\u001b[39;00m \u001b[38;5;21mr2_score\u001b[39m(y_true, y_pred):\n",
      "\u001b[0;32m   1129\u001b[0m \u001b[38;5;250m    \u001b[39m\u001b[38;5;124;03m\"\"\"R² for Bayesian regression models. Only valid for linear models.\u001b[39;00m\n",
      "\u001b[0;32m   1130\u001b[0m \n",
      "\u001b[0;32m   1131\u001b[0m \u001b[38;5;124;03m    Parameters\u001b[39;00m\n",
      "\u001b[1;32m   (...)\u001b[0m\n",
      "\u001b[0;32m   1159\u001b[0m \n",
      "\u001b[0;32m   1160\u001b[0m \u001b[38;5;124;03m    \"\"\"\u001b[39;00m\n",
      "\u001b[1;32m-> 1161\u001b[0m     r_squared \u001b[38;5;241m=\u001b[39m \u001b[43mr2_samples\u001b[49m\u001b[43m(\u001b[49m\u001b[43my_true\u001b[49m\u001b[38;5;241;43m=\u001b[39;49m\u001b[43my_true\u001b[49m\u001b[43m,\u001b[49m\u001b[43m \u001b[49m\u001b[43my_pred\u001b[49m\u001b[38;5;241;43m=\u001b[39;49m\u001b[43my_pred\u001b[49m\u001b[43m)\u001b[49m\n",
      "\u001b[0;32m   1162\u001b[0m     \u001b[38;5;28;01mreturn\u001b[39;00m pd\u001b[38;5;241m.\u001b[39mSeries([np\u001b[38;5;241m.\u001b[39mmean(r_squared), np\u001b[38;5;241m.\u001b[39mstd(r_squared)], index\u001b[38;5;241m=\u001b[39m[\u001b[38;5;124m\"\u001b[39m\u001b[38;5;124mr2\u001b[39m\u001b[38;5;124m\"\u001b[39m, \u001b[38;5;124m\"\u001b[39m\u001b[38;5;124mr2_std\u001b[39m\u001b[38;5;124m\"\u001b[39m])\n",
      "\n",
      "File \u001b[1;32m~\\.virtualenvs\\MMM_parameter_consistency_test-QELEqjhF\\lib\\site-packages\\arviz\\stats\\stats.py:1122\u001b[0m, in \u001b[0;36mr2_samples\u001b[1;34m(y_true, y_pred)\u001b[0m\n",
      "\u001b[0;32m   1120\u001b[0m \u001b[38;5;28;01melse\u001b[39;00m:\n",
      "\u001b[0;32m   1121\u001b[0m     var_y_est \u001b[38;5;241m=\u001b[39m _numba_var(svar, np\u001b[38;5;241m.\u001b[39mvar, y_pred, axis\u001b[38;5;241m=\u001b[39m\u001b[38;5;241m1\u001b[39m)\n",
      "\u001b[1;32m-> 1122\u001b[0m     var_e \u001b[38;5;241m=\u001b[39m _numba_var(svar, np\u001b[38;5;241m.\u001b[39mvar, (\u001b[43my_true\u001b[49m\u001b[43m \u001b[49m\u001b[38;5;241;43m-\u001b[39;49m\u001b[43m \u001b[49m\u001b[43my_pred\u001b[49m), axis\u001b[38;5;241m=\u001b[39m\u001b[38;5;241m1\u001b[39m)\n",
      "\u001b[0;32m   1123\u001b[0m r_squared \u001b[38;5;241m=\u001b[39m var_y_est \u001b[38;5;241m/\u001b[39m (var_y_est \u001b[38;5;241m+\u001b[39m var_e)\n",
      "\u001b[0;32m   1125\u001b[0m \u001b[38;5;28;01mreturn\u001b[39;00m r_squared\n",
      "\n",
      "File \u001b[1;32m~\\.virtualenvs\\MMM_parameter_consistency_test-QELEqjhF\\lib\\site-packages\\jax\\_src\\numpy\\array_methods.py:256\u001b[0m, in \u001b[0;36m_defer_to_unrecognized_arg.<locals>.deferring_binary_op\u001b[1;34m(self, other)\u001b[0m\n",
      "\u001b[0;32m    254\u001b[0m args \u001b[38;5;241m=\u001b[39m (other, \u001b[38;5;28mself\u001b[39m) \u001b[38;5;28;01mif\u001b[39;00m swap \u001b[38;5;28;01melse\u001b[39;00m (\u001b[38;5;28mself\u001b[39m, other)\n",
      "\u001b[0;32m    255\u001b[0m \u001b[38;5;28;01mif\u001b[39;00m \u001b[38;5;28misinstance\u001b[39m(other, _accepted_binop_types):\n",
      "\u001b[1;32m--> 256\u001b[0m   \u001b[38;5;28;01mreturn\u001b[39;00m \u001b[43mbinary_op\u001b[49m\u001b[43m(\u001b[49m\u001b[38;5;241;43m*\u001b[39;49m\u001b[43margs\u001b[49m\u001b[43m)\u001b[49m\n",
      "\u001b[0;32m    257\u001b[0m \u001b[38;5;66;03m# Note: don't use isinstance here, because we don't want to raise for\u001b[39;00m\n",
      "\u001b[0;32m    258\u001b[0m \u001b[38;5;66;03m# subclasses, e.g. NamedTuple objects that may override operators.\u001b[39;00m\n",
      "\u001b[0;32m    259\u001b[0m \u001b[38;5;28;01mif\u001b[39;00m \u001b[38;5;28mtype\u001b[39m(other) \u001b[38;5;129;01min\u001b[39;00m _rejected_binop_types:\n",
      "\n",
      "    \u001b[1;31m[... skipping hidden 12 frame]\u001b[0m\n",
      "\n",
      "File \u001b[1;32m~\\.virtualenvs\\MMM_parameter_consistency_test-QELEqjhF\\lib\\site-packages\\jax\\_src\\numpy\\ufuncs.py:82\u001b[0m, in \u001b[0;36m_one_to_one_binop.<locals>.<lambda>\u001b[1;34m(x1, x2)\u001b[0m\n",
      "\u001b[0;32m     80\u001b[0m   fn \u001b[38;5;241m=\u001b[39m \u001b[38;5;28;01mlambda\u001b[39;00m x1, x2, \u001b[38;5;241m/\u001b[39m: lax_fn(\u001b[38;5;241m*\u001b[39mpromote_args_numeric(numpy_fn\u001b[38;5;241m.\u001b[39m\u001b[38;5;18m__name__\u001b[39m, x1, x2))\n",
      "\u001b[0;32m     81\u001b[0m \u001b[38;5;28;01melse\u001b[39;00m:\n",
      "\u001b[1;32m---> 82\u001b[0m   fn \u001b[38;5;241m=\u001b[39m \u001b[38;5;28;01mlambda\u001b[39;00m x1, x2, \u001b[38;5;241m/\u001b[39m: \u001b[43mlax_fn\u001b[49m\u001b[43m(\u001b[49m\u001b[38;5;241;43m*\u001b[39;49m\u001b[43mpromote_args\u001b[49m\u001b[43m(\u001b[49m\u001b[43mnumpy_fn\u001b[49m\u001b[38;5;241;43m.\u001b[39;49m\u001b[38;5;18;43m__name__\u001b[39;49m\u001b[43m,\u001b[49m\u001b[43m \u001b[49m\u001b[43mx1\u001b[49m\u001b[43m,\u001b[49m\u001b[43m \u001b[49m\u001b[43mx2\u001b[49m\u001b[43m)\u001b[49m\u001b[43m)\u001b[49m\n",
      "\u001b[0;32m     83\u001b[0m fn\u001b[38;5;241m.\u001b[39m\u001b[38;5;18m__qualname__\u001b[39m \u001b[38;5;241m=\u001b[39m \u001b[38;5;124mf\u001b[39m\u001b[38;5;124m\"\u001b[39m\u001b[38;5;124mjax.numpy.\u001b[39m\u001b[38;5;132;01m{\u001b[39;00mnumpy_fn\u001b[38;5;241m.\u001b[39m\u001b[38;5;18m__name__\u001b[39m\u001b[38;5;132;01m}\u001b[39;00m\u001b[38;5;124m\"\u001b[39m\n",
      "\u001b[0;32m     84\u001b[0m fn \u001b[38;5;241m=\u001b[39m jit(fn, inline\u001b[38;5;241m=\u001b[39m\u001b[38;5;28;01mTrue\u001b[39;00m)\n",
      "\n",
      "    \u001b[1;31m[... skipping hidden 7 frame]\u001b[0m\n",
      "\n",
      "File \u001b[1;32m~\\.virtualenvs\\MMM_parameter_consistency_test-QELEqjhF\\lib\\site-packages\\jax\\_src\\lax\\lax.py:1591\u001b[0m, in \u001b[0;36mbroadcasting_shape_rule\u001b[1;34m(name, *avals)\u001b[0m\n",
      "\u001b[0;32m   1589\u001b[0m       result_shape\u001b[38;5;241m.\u001b[39mappend(non_1s[\u001b[38;5;241m0\u001b[39m])\n",
      "\u001b[0;32m   1590\u001b[0m     \u001b[38;5;28;01melse\u001b[39;00m:\n",
      "\u001b[1;32m-> 1591\u001b[0m       \u001b[38;5;28;01mraise\u001b[39;00m \u001b[38;5;167;01mTypeError\u001b[39;00m(\u001b[38;5;124mf\u001b[39m\u001b[38;5;124m'\u001b[39m\u001b[38;5;132;01m{\u001b[39;00mname\u001b[38;5;132;01m}\u001b[39;00m\u001b[38;5;124m got incompatible shapes for broadcasting: \u001b[39m\u001b[38;5;124m'\u001b[39m\n",
      "\u001b[0;32m   1592\u001b[0m                       \u001b[38;5;124mf\u001b[39m\u001b[38;5;124m'\u001b[39m\u001b[38;5;132;01m{\u001b[39;00m\u001b[38;5;124m\"\u001b[39m\u001b[38;5;124m, \u001b[39m\u001b[38;5;124m\"\u001b[39m\u001b[38;5;241m.\u001b[39mjoin(\u001b[38;5;28mmap\u001b[39m(\u001b[38;5;28mstr\u001b[39m,\u001b[38;5;250m \u001b[39m\u001b[38;5;28mmap\u001b[39m(\u001b[38;5;28mtuple\u001b[39m,\u001b[38;5;250m \u001b[39mshapes)))\u001b[38;5;132;01m}\u001b[39;00m\u001b[38;5;124m.\u001b[39m\u001b[38;5;124m'\u001b[39m)\n",
      "\u001b[0;32m   1594\u001b[0m \u001b[38;5;28;01mreturn\u001b[39;00m \u001b[38;5;28mtuple\u001b[39m(result_shape)\n",
      "\n",
      "\u001b[1;31mTypeError\u001b[0m: sub got incompatible shapes for broadcasting: (84, 1), (50000, 84)."
     ]
    }
   ],
   "source": [
    "# %% I have here TypeError\n",
    "plot.plot_model_fit(mmm, target_scaler=target_scaler)\n"
   ]
  },
  {
   "cell_type": "code",
   "execution_count": null,
   "metadata": {},
   "outputs": [],
   "source": []
  }
 ],
 "metadata": {
  "language_info": {
   "codemirror_mode": {
    "name": "ipython",
    "version": 3
   },
   "file_extension": ".py",
   "mimetype": "text/x-python",
   "name": "python",
   "nbconvert_exporter": "python",
   "pygments_lexer": "ipython3",
   "version": 3
  }
 },
 "nbformat": 4,
 "nbformat_minor": 2
}
